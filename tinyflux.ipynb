{
 "cells": [
  {
   "cell_type": "markdown",
   "metadata": {},
   "source": [
    "# Tinyflux: Example with fictious bank transactions"
   ]
  },
  {
   "cell_type": "code",
   "execution_count": 25,
   "metadata": {
    "tags": []
   },
   "outputs": [],
   "source": [
    "import csv\n",
    "from tinyflux import TinyFlux, Point, FieldQuery, TagQuery, TimeQuery\n",
    "from datetime import datetime, timezone, timedelta"
   ]
  },
  {
   "cell_type": "markdown",
   "metadata": {},
   "source": [
    "## Initialize the TinyFlux database"
   ]
  },
  {
   "cell_type": "code",
   "execution_count": 26,
   "metadata": {},
   "outputs": [],
   "source": [
    "db = TinyFlux(\"swiss_bank_transactions.db\")"
   ]
  },
  {
   "cell_type": "markdown",
   "metadata": {
    "tags": []
   },
   "source": [
    "## Writing a CSV file into Tinyflux"
   ]
  },
  {
   "cell_type": "code",
   "execution_count": 18,
   "metadata": {
    "tags": []
   },
   "outputs": [],
   "source": [
    "# Read CSV and insert data into TinyFlux\n",
    "with open(\"example_data/swiss_bank_transactions.csv\", mode=\"r\") as file:\n",
    "    reader = csv.DictReader(file)\n",
    "    for row in reader:\n",
    "        point = Point(\n",
    "            time=datetime.strptime(row[\"time\"], \"%Y-%m-%d %H:%M:%S\"),\n",
    "            measurement=\"transactions\",\n",
    "            fields={\"amount\": float(row[\"amount\"])\n",
    "                    },  # Only numeric fields\n",
    "            tags={\n",
    "                \"location\": row[\"location\"],\n",
    "                \"account_id\": row[\"account_id\"],\n",
    "                \"currency\": row[\"currency\"],  # Move non-numeric fields to tags\n",
    "                \"transaction_type\": row[\"transaction_type\"]\n",
    "            }\n",
    "        )\n",
    "        db.insert(point)"
   ]
  },
  {
   "cell_type": "markdown",
   "metadata": {},
   "source": [
    "## Writing manually into Tinyflux"
   ]
  },
  {
   "cell_type": "code",
   "execution_count": null,
   "metadata": {
    "tags": []
   },
   "outputs": [],
   "source": [
    "# Create manual records\n",
    "p1 = Point(\n",
    "    time=datetime(2024, 1, 1, 12, 0, tzinfo=timezone.utc),\n",
    "    tags={\"location\": \"Winterthur\", \"account_id\": \"1234\", \"currency\": \"CHF\", \"transaction_type\": \"deposit\"},\n",
    "    fields={\"amount\": 1000.0}\n",
    ")\n",
    "\n",
    "p2 = Point(\n",
    "    time=datetime(2024, 1, 2, 12, 0, tzinfo=timezone.utc),\n",
    "    tags={\"location\": \"Winterthur\", \"account_id\": \"1234\", \"currency\": \"CHF\", \"transaction_type\": \"deposit\"},\n",
    "    fields={\"amount\": 2000.0}\n",
    ")\n",
    "\n",
    "# Insert into the DB.\n",
    "db.insert_multiple([p1, p2])"
   ]
  },
  {
   "cell_type": "markdown",
   "metadata": {},
   "source": [
    "## Querying by Time"
   ]
  },
  {
   "cell_type": "code",
   "execution_count": null,
   "metadata": {
    "tags": []
   },
   "outputs": [],
   "source": [
    "# Search for a time value\n",
    "Time = TimeQuery()\n",
    "time_start = Time >= datetime(2023, 1, 1, tzinfo=timezone.utc)\n",
    "time_end = Time < datetime(2023, 12, 31, tzinfo=timezone.utc)\n",
    "time_count = db.count(time_start & time_end)\n",
    "print(\"\\nTime Query Count:\")\n",
    "print(time_count)"
   ]
  },
  {
   "cell_type": "markdown",
   "metadata": {},
   "source": [
    "## Querying by Field"
   ]
  },
  {
   "cell_type": "code",
   "execution_count": null,
   "metadata": {
    "collapsed": true,
    "jupyter": {
     "outputs_hidden": true
    },
    "tags": []
   },
   "outputs": [],
   "source": [
    "# Search for a field value\n",
    "Field = FieldQuery()\n",
    "field_results = db.select(\"fields.amount\", Field.amount > 1000.0)\n",
    "print(\"\\nField Query Results:\")\n",
    "for result in field_results:\n",
    "    print(result)"
   ]
  },
  {
   "cell_type": "markdown",
   "metadata": {},
   "source": [
    "## Querying by Tag"
   ]
  },
  {
   "cell_type": "code",
   "execution_count": null,
   "metadata": {
    "collapsed": true,
    "jupyter": {
     "outputs_hidden": true
    },
    "tags": []
   },
   "outputs": [],
   "source": [
    "# Search for a tag value\n",
    "Tag = TagQuery()\n",
    "tag_results = db.search(Tag.location == 'Zurich')\n",
    "print(\"Tag Query Results:\")\n",
    "for result in tag_results:\n",
    "    print(result)"
   ]
  }
 ],
 "metadata": {
  "kernelspec": {
   "display_name": "Python 3",
   "language": "python",
   "name": "python3"
  },
  "language_info": {
   "codemirror_mode": {
    "name": "ipython",
    "version": 3
   },
   "file_extension": ".py",
   "mimetype": "text/x-python",
   "name": "python",
   "nbconvert_exporter": "python",
   "pygments_lexer": "ipython3",
   "version": "3.12.1"
  }
 },
 "nbformat": 4,
 "nbformat_minor": 4
}
