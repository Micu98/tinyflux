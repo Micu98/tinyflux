{
 "cells": [
  {
   "cell_type": "markdown",
   "metadata": {},
   "source": [
    "# Tinyflux: Example with fictious bank transactions"
   ]
  },
  {
   "cell_type": "code",
   "execution_count": 25,
   "metadata": {
    "tags": []
   },
   "outputs": [],
   "source": [
    "import csv\n",
    "from tinyflux import TinyFlux, Point, FieldQuery, TagQuery, TimeQuery\n",
    "from datetime import datetime, timezone, timedelta"
   ]
  },
  {
   "cell_type": "markdown",
   "metadata": {},
   "source": [
    "## Initialize the TinyFlux database"
   ]
  },
  {
   "cell_type": "code",
   "execution_count": 26,
   "metadata": {},
   "outputs": [],
   "source": [
    "db = TinyFlux(\"swiss_bank_transactions.db\")"
   ]
  },
  {
   "cell_type": "markdown",
   "metadata": {
    "tags": []
   },
   "source": [
    "## Writing a CSV file into Tinyflux"
   ]
  },
  {
   "cell_type": "code",
   "execution_count": 18,
   "metadata": {
    "tags": []
   },
   "outputs": [],
   "source": [
    "# Read CSV and insert data into TinyFlux\n",
    "with open(\"example_data/swiss_bank_transactions.csv\", mode=\"r\") as file:\n",
    "    reader = csv.DictReader(file)\n",
    "    for row in reader:\n",
    "        point = Point(\n",
    "            time=datetime.strptime(row[\"time\"], \"%Y-%m-%d %H:%M:%S\"),\n",
    "            measurement=\"transactions\",\n",
    "            fields={\"amount\": float(row[\"amount\"])\n",
    "                    },  # Only numeric fields\n",
    "            tags={\n",
    "                \"location\": row[\"location\"],\n",
    "                \"account_id\": row[\"account_id\"],\n",
    "                \"currency\": row[\"currency\"],  # Move non-numeric fields to tags\n",
    "                \"transaction_type\": row[\"transaction_type\"]\n",
    "            }\n",
    "        )\n",
    "        db.insert(point)"
   ]
  },
  {
   "cell_type": "markdown",
   "metadata": {},
   "source": [
    "## Test"
   ]
  },
  {
   "cell_type": "code",
   "execution_count": 28,
   "metadata": {},
   "outputs": [
    {
     "ename": "TypeError",
     "evalue": "float() argument must be a string or a real number, not 'NoneType'",
     "output_type": "error",
     "traceback": [
      "\u001b[0;31m---------------------------------------------------------------------------\u001b[0m",
      "\u001b[0;31mTypeError\u001b[0m                                 Traceback (most recent call last)",
      "Cell \u001b[0;32mIn[28], line 10\u001b[0m\n\u001b[1;32m      3\u001b[0m     reader \u001b[38;5;241m=\u001b[39m csv\u001b[38;5;241m.\u001b[39mDictReader(file)\n\u001b[1;32m      4\u001b[0m     \u001b[38;5;28;01mfor\u001b[39;00m row \u001b[38;5;129;01min\u001b[39;00m reader:\n\u001b[1;32m      5\u001b[0m         point \u001b[38;5;241m=\u001b[39m Point(\n\u001b[1;32m      6\u001b[0m             time\u001b[38;5;241m=\u001b[39mdatetime\u001b[38;5;241m.\u001b[39mstrptime(row[\u001b[38;5;124m\"\u001b[39m\u001b[38;5;124mtime\u001b[39m\u001b[38;5;124m\"\u001b[39m], \u001b[38;5;124m\"\u001b[39m\u001b[38;5;124m%\u001b[39m\u001b[38;5;124mY-\u001b[39m\u001b[38;5;124m%\u001b[39m\u001b[38;5;124mm-\u001b[39m\u001b[38;5;132;01m%d\u001b[39;00m\u001b[38;5;124m \u001b[39m\u001b[38;5;124m%\u001b[39m\u001b[38;5;124mH:\u001b[39m\u001b[38;5;124m%\u001b[39m\u001b[38;5;124mM:\u001b[39m\u001b[38;5;124m%\u001b[39m\u001b[38;5;124mS\u001b[39m\u001b[38;5;124m\"\u001b[39m),\n\u001b[1;32m      7\u001b[0m             measurement\u001b[38;5;241m=\u001b[39m\u001b[38;5;124m\"\u001b[39m\u001b[38;5;124mtransactions\u001b[39m\u001b[38;5;124m\"\u001b[39m,\n\u001b[1;32m      8\u001b[0m             fields\u001b[38;5;241m=\u001b[39m{\n\u001b[1;32m      9\u001b[0m                 \u001b[38;5;124m\"\u001b[39m\u001b[38;5;124mamount\u001b[39m\u001b[38;5;124m\"\u001b[39m: \u001b[38;5;28mfloat\u001b[39m(row[\u001b[38;5;124m\"\u001b[39m\u001b[38;5;124mamount\u001b[39m\u001b[38;5;124m\"\u001b[39m]),\n\u001b[0;32m---> 10\u001b[0m                 \u001b[38;5;124m\"\u001b[39m\u001b[38;5;124mdevice_temperature\u001b[39m\u001b[38;5;124m\"\u001b[39m: \u001b[38;5;28;43mfloat\u001b[39;49m\u001b[43m(\u001b[49m\u001b[43mrow\u001b[49m\u001b[43m[\u001b[49m\u001b[38;5;124;43m\"\u001b[39;49m\u001b[38;5;124;43mdevice_temperature\u001b[39;49m\u001b[38;5;124;43m\"\u001b[39;49m\u001b[43m]\u001b[49m\u001b[43m)\u001b[49m  \u001b[38;5;66;03m# New field\u001b[39;00m\n\u001b[1;32m     11\u001b[0m             },\n\u001b[1;32m     12\u001b[0m             tags\u001b[38;5;241m=\u001b[39m{\n\u001b[1;32m     13\u001b[0m                 \u001b[38;5;124m\"\u001b[39m\u001b[38;5;124mlocation\u001b[39m\u001b[38;5;124m\"\u001b[39m: row[\u001b[38;5;124m\"\u001b[39m\u001b[38;5;124mlocation\u001b[39m\u001b[38;5;124m\"\u001b[39m],\n\u001b[1;32m     14\u001b[0m                 \u001b[38;5;124m\"\u001b[39m\u001b[38;5;124maccount_id\u001b[39m\u001b[38;5;124m\"\u001b[39m: row[\u001b[38;5;124m\"\u001b[39m\u001b[38;5;124maccount_id\u001b[39m\u001b[38;5;124m\"\u001b[39m],\n\u001b[1;32m     15\u001b[0m                 \u001b[38;5;124m\"\u001b[39m\u001b[38;5;124mcurrency\u001b[39m\u001b[38;5;124m\"\u001b[39m: row[\u001b[38;5;124m\"\u001b[39m\u001b[38;5;124mcurrency\u001b[39m\u001b[38;5;124m\"\u001b[39m],\n\u001b[1;32m     16\u001b[0m                 \u001b[38;5;124m\"\u001b[39m\u001b[38;5;124mtransaction_type\u001b[39m\u001b[38;5;124m\"\u001b[39m: row[\u001b[38;5;124m\"\u001b[39m\u001b[38;5;124mtransaction_type\u001b[39m\u001b[38;5;124m\"\u001b[39m],\n\u001b[1;32m     17\u001b[0m                 \u001b[38;5;124m\"\u001b[39m\u001b[38;5;124mdevice_type\u001b[39m\u001b[38;5;124m\"\u001b[39m: row[\u001b[38;5;124m\"\u001b[39m\u001b[38;5;124mdevice_type\u001b[39m\u001b[38;5;124m\"\u001b[39m]  \u001b[38;5;66;03m# New tag\u001b[39;00m\n\u001b[1;32m     18\u001b[0m             }\n\u001b[1;32m     19\u001b[0m         )\n\u001b[1;32m     20\u001b[0m         db\u001b[38;5;241m.\u001b[39minsert(point)\n\u001b[1;32m     22\u001b[0m \u001b[38;5;28mprint\u001b[39m(\u001b[38;5;124m\"\u001b[39m\u001b[38;5;124mData inserted with new tag and field!\u001b[39m\u001b[38;5;124m\"\u001b[39m)\n",
      "\u001b[0;31mTypeError\u001b[0m: float() argument must be a string or a real number, not 'NoneType'"
     ]
    }
   ],
   "source": [
    "\n",
    "# Read CSV and insert data into TinyFlux\n",
    "with open(\"example_data/swiss_bank_transactions.csv\", mode=\"r\") as file:\n",
    "    reader = csv.DictReader(file)\n",
    "    for row in reader:\n",
    "        point = Point(\n",
    "            time=datetime.strptime(row[\"time\"], \"%Y-%m-%d %H:%M:%S\"),\n",
    "            measurement=\"transactions\",\n",
    "            fields={\n",
    "                \"amount\": float(row[\"amount\"]),\n",
    "                \"device_temperature\": float(row[\"device_temperature\"])  # New field\n",
    "            },\n",
    "            tags={\n",
    "                \"location\": row[\"location\"],\n",
    "                \"account_id\": row[\"account_id\"],\n",
    "                \"currency\": row[\"currency\"],\n",
    "                \"transaction_type\": row[\"transaction_type\"],\n",
    "                \"device_type\": row[\"device_type\"]  # New tag\n",
    "            }\n",
    "        )\n",
    "        db.insert(point)\n",
    "\n",
    "print(\"Data inserted with new tag and field!\")"
   ]
  },
  {
   "cell_type": "markdown",
   "metadata": {},
   "source": [
    "## Writing manually into Tinyflux"
   ]
  },
  {
   "cell_type": "code",
   "execution_count": null,
   "metadata": {
    "tags": []
   },
   "outputs": [],
   "source": [
    "# Create manual records\n",
    "p1 = Point(\n",
    "    time=datetime(2024, 1, 1, 12, 0, tzinfo=timezone.utc),\n",
    "    tags={\"location\": \"Winterthur\", \"account_id\": \"1234\", \"currency\": \"CHF\", \"transaction_type\": \"deposit\"},\n",
    "    fields={\"amount\": 1000.0}\n",
    ")\n",
    "\n",
    "p2 = Point(\n",
    "    time=datetime(2024, 1, 2, 12, 0, tzinfo=timezone.utc),\n",
    "    tags={\"location\": \"Winterthur\", \"account_id\": \"1234\", \"currency\": \"CHF\", \"transaction_type\": \"deposit\"},\n",
    "    fields={\"amount\": 2000.0}\n",
    ")\n",
    "\n",
    "# Insert into the DB.\n",
    "db.insert_multiple([p1, p2])"
   ]
  },
  {
   "cell_type": "markdown",
   "metadata": {},
   "source": [
    "## Querying by Time"
   ]
  },
  {
   "cell_type": "code",
   "execution_count": null,
   "metadata": {
    "tags": []
   },
   "outputs": [],
   "source": [
    "# Search for a time value\n",
    "Time = TimeQuery()\n",
    "time_start = Time >= datetime(2023, 1, 1, tzinfo=timezone.utc)\n",
    "time_end = Time < datetime(2023, 12, 31, tzinfo=timezone.utc)\n",
    "time_count = db.count(time_start & time_end)\n",
    "print(\"\\nTime Query Count:\")\n",
    "print(time_count)"
   ]
  },
  {
   "cell_type": "markdown",
   "metadata": {},
   "source": [
    "## Querying by Field"
   ]
  },
  {
   "cell_type": "code",
   "execution_count": null,
   "metadata": {
    "collapsed": true,
    "jupyter": {
     "outputs_hidden": true
    },
    "tags": []
   },
   "outputs": [],
   "source": [
    "# Search for a field value\n",
    "Field = FieldQuery()\n",
    "field_results = db.select(\"fields.amount\", Field.amount > 1000.0)\n",
    "print(\"\\nField Query Results:\")\n",
    "for result in field_results:\n",
    "    print(result)"
   ]
  },
  {
   "cell_type": "markdown",
   "metadata": {},
   "source": [
    "## Querying by Tag"
   ]
  },
  {
   "cell_type": "code",
   "execution_count": null,
   "metadata": {
    "collapsed": true,
    "jupyter": {
     "outputs_hidden": true
    },
    "tags": []
   },
   "outputs": [],
   "source": [
    "# Search for a tag value\n",
    "Tag = TagQuery()\n",
    "tag_results = db.search(Tag.location == 'Zurich')\n",
    "print(\"Tag Query Results:\")\n",
    "for result in tag_results:\n",
    "    print(result)"
   ]
  }
 ],
 "metadata": {
  "kernelspec": {
   "display_name": "Python 3 (ipykernel)",
   "language": "python",
   "name": "python3"
  },
  "language_info": {
   "codemirror_mode": {
    "name": "ipython",
    "version": 3
   },
   "file_extension": ".py",
   "mimetype": "text/x-python",
   "name": "python",
   "nbconvert_exporter": "python",
   "pygments_lexer": "ipython3",
   "version": "3.12.1"
  }
 },
 "nbformat": 4,
 "nbformat_minor": 4
}
